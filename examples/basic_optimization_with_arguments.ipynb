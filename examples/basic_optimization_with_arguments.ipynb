{
 "cells": [
  {
   "cell_type": "markdown",
   "metadata": {},
   "source": [
    "## Basic Optimization with Arguments"
   ]
  },
  {
   "cell_type": "markdown",
   "metadata": {},
   "source": [
    "Here, we will run a basic optimization using an objective function that needs parameterization.  We will use the ``single.GBestPSO`` and a version of the rosenbrock function to demonstrate"
   ]
  },
  {
   "cell_type": "code",
   "execution_count": 1,
   "metadata": {
    "collapsed": false
   },
   "outputs": [
    {
     "name": "stdout",
     "output_type": "stream",
     "text": [
      "Running Python 3.5.2 |Anaconda custom (64-bit)| (default, Jul  2 2016, 17:53:06) \n",
      "[GCC 4.4.7 20120313 (Red Hat 4.4.7-1)]\n"
     ]
    }
   ],
   "source": [
    "import sys\n",
    "# change directory to access pyswarms\n",
    "sys.path.append('../')\n",
    "\n",
    "print(\"Running Python {}\".format(sys.version))"
   ]
  },
  {
   "cell_type": "code",
   "execution_count": 2,
   "metadata": {
    "collapsed": false,
    "scrolled": true
   },
   "outputs": [],
   "source": [
    "# import modules\n",
    "import numpy as np\n",
    "\n",
    "# create a parameterized version of the classic Rosenbrock unconstrained optimzation function\n",
    "def rosenbrock_with_args(x, a, b):\n",
    "\n",
    "    f = (a - x[:, 0]) ** 2 + b * (x[:, 1] - x[:, 0] ** 2) ** 2\n",
    "    return f"
   ]
  },
  {
   "cell_type": "markdown",
   "metadata": {},
   "source": [
    "### Using Arguments"
   ]
  },
  {
   "cell_type": "markdown",
   "metadata": {},
   "source": [
    "Arguments can either be passed in using a tuple or a dictionary, using the ``args=()`` and ``kwargs={}`` paradigm. First lets optimize the Rosenbrock function using args.  Note in the definition of the Rosenbrock function above, there were two arguments that need to be passed other than the design variables, ``a``, and ``b``."
   ]
  },
  {
   "cell_type": "code",
   "execution_count": 4,
   "metadata": {
    "collapsed": false
   },
   "outputs": [
    {
     "name": "stderr",
     "output_type": "stream",
     "text": [
      "INFO:pyswarms.single.global_best:Arguments Passed to Objective Function: \n",
      "args: (1.0, 100.0) \n",
      "kwargs: {}\n",
      "\n",
      "INFO:pyswarms.single.global_best:Iteration 1/1000, cost: 124.364226595\n",
      "INFO:pyswarms.single.global_best:Iteration 101/1000, cost: 0.445985836693\n",
      "INFO:pyswarms.single.global_best:Iteration 201/1000, cost: 0.317327204905\n",
      "INFO:pyswarms.single.global_best:Iteration 301/1000, cost: 0.0995543795222\n",
      "INFO:pyswarms.single.global_best:Iteration 401/1000, cost: 1.98806587675e-06\n",
      "INFO:pyswarms.single.global_best:Iteration 501/1000, cost: 4.23374132602e-09\n",
      "INFO:pyswarms.single.global_best:Iteration 601/1000, cost: 8.56268945201e-10\n",
      "INFO:pyswarms.single.global_best:Iteration 701/1000, cost: 4.20644942408e-10\n",
      "INFO:pyswarms.single.global_best:Iteration 801/1000, cost: 2.35290025946e-10\n",
      "INFO:pyswarms.single.global_best:Iteration 901/1000, cost: 2.15111739692e-11\n",
      "INFO:pyswarms.single.global_best:================================\n",
      "Optimization finished!\n",
      "Final cost: 0.0000\n",
      "Best value: [1.0000017594251005, 1.0000035602546986]\n",
      "\n"
     ]
    }
   ],
   "source": [
    "from pyswarms.single.global_best import GlobalBestPSO\n",
    "\n",
    "# instatiate the optimizer\n",
    "x_max = 10 * np.ones(2)\n",
    "x_min = -1 * x_max\n",
    "bounds = (x_min, x_max)\n",
    "options = {'c1': 0.5, 'c2': 0.3, 'w': 0.9}\n",
    "optimizer = GlobalBestPSO(n_particles=10, dimensions=2, options=options, bounds=bounds)\n",
    "\n",
    "# now run the optimization, pass a=1 and b=100 as a tuple assigned to args\n",
    "args = (1.0, 100.0)\n",
    "cost, pos = optimizer.optimize(rosenbrock_with_args, 1000, *args, print_step=100, verbose=3)"
   ]
  },
  {
   "cell_type": "markdown",
   "metadata": {},
   "source": [
    "Now lets use kwargs to parameterize the model instead."
   ]
  },
  {
   "cell_type": "code",
   "execution_count": 5,
   "metadata": {
    "collapsed": false
   },
   "outputs": [
    {
     "name": "stderr",
     "output_type": "stream",
     "text": [
      "INFO:pyswarms.single.global_best:Arguments Passed to Objective Function: \n",
      "args: () \n",
      "kwargs: {'b': 100.0, 'a': 1.0}\n",
      "\n",
      "INFO:pyswarms.single.global_best:Iteration 1/1000, cost: 3.26698429373e-12\n",
      "INFO:pyswarms.single.global_best:Iteration 101/1000, cost: 2.30288883859e-12\n",
      "INFO:pyswarms.single.global_best:Iteration 201/1000, cost: 1.87025187547e-13\n",
      "INFO:pyswarms.single.global_best:Iteration 301/1000, cost: 8.24495145849e-16\n",
      "INFO:pyswarms.single.global_best:Iteration 401/1000, cost: 1.33017654867e-16\n",
      "INFO:pyswarms.single.global_best:Iteration 501/1000, cost: 4.102513941e-17\n",
      "INFO:pyswarms.single.global_best:Iteration 601/1000, cost: 3.07714018918e-18\n",
      "INFO:pyswarms.single.global_best:Iteration 701/1000, cost: 2.97733866349e-19\n",
      "INFO:pyswarms.single.global_best:Iteration 801/1000, cost: 6.19170997185e-21\n",
      "INFO:pyswarms.single.global_best:Iteration 901/1000, cost: 1.45884097936e-22\n",
      "INFO:pyswarms.single.global_best:================================\n",
      "Optimization finished!\n",
      "Final cost: 0.0000\n",
      "Best value: [1.0000000000020999, 1.0000000000041886]\n",
      "\n"
     ]
    }
   ],
   "source": [
    "kwargs={\"a\": 1.0, \"b\": 100.0}\n",
    "cost, pos = optimizer.optimize(rosenbrock_with_args, 1000, print_step=100, verbose=3, **kwargs)"
   ]
  },
  {
   "cell_type": "code",
   "execution_count": null,
   "metadata": {
    "collapsed": true
   },
   "outputs": [],
   "source": []
  }
 ],
 "metadata": {
  "anaconda-cloud": {},
  "kernelspec": {
   "display_name": "Python [conda env:anaconda3]",
   "language": "python",
   "name": "conda-env-anaconda3-py"
  },
  "language_info": {
   "codemirror_mode": {
    "name": "ipython",
    "version": 3
   },
   "file_extension": ".py",
   "mimetype": "text/x-python",
   "name": "python",
   "nbconvert_exporter": "python",
   "pygments_lexer": "ipython3",
   "version": "3.5.2"
  }
 },
 "nbformat": 4,
 "nbformat_minor": 1
}
